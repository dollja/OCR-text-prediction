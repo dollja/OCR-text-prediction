{
 "cells": [
  {
   "cell_type": "markdown",
   "metadata": {},
   "source": [
    "### Importing pytesseract and setting environment variable for english trained data"
   ]
  },
  {
   "cell_type": "code",
   "execution_count": 2,
   "metadata": {},
   "outputs": [],
   "source": [
    "import pytesseract as p\n",
    "import os\n",
    "os.environ[\"TESSDATA_PREFIX\"] = 'D:/Tesseract-OCR/tessdata/'\n"
   ]
  },
  {
   "cell_type": "markdown",
   "metadata": {},
   "source": [
    "### Getting list of files from the directory"
   ]
  },
  {
   "cell_type": "code",
   "execution_count": 3,
   "metadata": {},
   "outputs": [],
   "source": [
    "from os import listdir\n",
    "from os.path import isfile, join\n",
    "files = [f for f in listdir('C:/Users/being/Downloads/Invoice_pro/tesseract_training/') if isfile(join('C:/Users/being/Downloads/Invoice_pro/tesseract_training/', f))]"
   ]
  },
  {
   "cell_type": "markdown",
   "metadata": {},
   "source": [
    "### Looping through different cropped images based on their filename"
   ]
  },
  {
   "cell_type": "code",
   "execution_count": 8,
   "metadata": {},
   "outputs": [
    {
     "name": "stdout",
     "output_type": "stream",
     "text": [
      "$5,500.00\n"
     ]
    },
    {
     "ename": "KeyError",
     "evalue": "'Amount_one.png'",
     "output_type": "error",
     "traceback": [
      "\u001b[1;31m---------------------------------------------------------------------------\u001b[0m",
      "\u001b[1;31mKeyError\u001b[0m                                  Traceback (most recent call last)",
      "\u001b[1;32m<ipython-input-8-1ef0e61b3b3b>\u001b[0m in \u001b[0;36m<module>\u001b[1;34m\u001b[0m\n\u001b[0;32m      9\u001b[0m         \u001b[0mimage_to_text_stripped\u001b[0m \u001b[1;33m=\u001b[0m \u001b[0mimage_to_text\u001b[0m\u001b[1;33m.\u001b[0m\u001b[0mrstrip\u001b[0m\u001b[1;33m(\u001b[0m\u001b[1;34m\"\\n\\x0c\"\u001b[0m\u001b[1;33m)\u001b[0m\u001b[1;33m\u001b[0m\u001b[1;33m\u001b[0m\u001b[0m\n\u001b[0;32m     10\u001b[0m         \u001b[0mprint\u001b[0m\u001b[1;33m(\u001b[0m\u001b[0mimage_to_text_stripped\u001b[0m\u001b[1;33m)\u001b[0m\u001b[1;33m\u001b[0m\u001b[1;33m\u001b[0m\u001b[0m\n\u001b[1;32m---> 11\u001b[1;33m         \u001b[0mimage_to_text_1\u001b[0m\u001b[1;33m[\u001b[0m\u001b[0mfile\u001b[0m\u001b[1;33m]\u001b[0m\u001b[1;33m.\u001b[0m\u001b[0mappend\u001b[0m\u001b[1;33m(\u001b[0m\u001b[0mimage_to_text_stripped\u001b[0m\u001b[1;33m)\u001b[0m\u001b[1;33m\u001b[0m\u001b[1;33m\u001b[0m\u001b[0m\n\u001b[0m\u001b[0;32m     12\u001b[0m \u001b[1;33m\u001b[0m\u001b[0m\n\u001b[0;32m     13\u001b[0m \u001b[0mprint\u001b[0m\u001b[1;33m(\u001b[0m\u001b[0mimage_to_text_1\u001b[0m\u001b[1;33m)\u001b[0m\u001b[1;33m\u001b[0m\u001b[1;33m\u001b[0m\u001b[0m\n",
      "\u001b[1;31mKeyError\u001b[0m: 'Amount_one.png'"
     ]
    }
   ],
   "source": [
    "image_to_text_1 = {}\n",
    "\n",
    "for file in files:\n",
    "\n",
    "    #print(file[:-6])\n",
    "    #print(file)\n",
    "    image_to_text = p.image_to_string(file)\n",
    "    #print(file[:-6])\n",
    "    image_to_text_stripped = image_to_text.rstrip(\"\\n\\x0c\")\n",
    "    print(image_to_text_stripped)\n",
    "    #image_to_text_1[file[:-6]] = image_to_text_stripped\n",
    "\n",
    "#print(image_to_text_1)"
   ]
  },
  {
   "cell_type": "code",
   "execution_count": 5,
   "metadata": {},
   "outputs": [
    {
     "name": "stdout",
     "output_type": "stream",
     "text": [
      "{'Amount': '140', 'Date': '2S JAN 2019', 'Invoice Number': '1234S6'}\n"
     ]
    }
   ],
   "source": [
    "image_to_text_2 = {}\n",
    "\n",
    "for file in files:\n",
    "    if '_two.png' in file:\n",
    "        #print(file[:-6])\n",
    "        #print(file)\n",
    "        image_to_text = p.image_to_string(file,)\n",
    "        #print(file[:-6])\n",
    "        image_to_text_stripped = image_to_text.rstrip(\"\\n\\x0c\")\n",
    "        image_to_text_2[file[:-6]] = image_to_text_stripped\n",
    "\n",
    "print(image_to_text_2)"
   ]
  },
  {
   "cell_type": "code",
   "execution_count": 8,
   "metadata": {},
   "outputs": [
    {
     "name": "stdout",
     "output_type": "stream",
     "text": [
      "{'Amount': '$68S.3S', 'Date': '2018-04-11', 'Invoice Number': '#000009'}\n"
     ]
    }
   ],
   "source": [
    "image_to_text_3 = {}\n",
    "\n",
    "for file in files:\n",
    "    if '_three.png' in file:\n",
    "        #print(file[:-6])\n",
    "        #print(file)\n",
    "        image_to_text = p.image_to_string(file)\n",
    "        #print(file[:-6])\n",
    "        image_to_text_stripped = image_to_text.rstrip(\"\\n\\x0c\")\n",
    "        image_to_text_3[file[:-6]] = image_to_text_stripped\n",
    "\n",
    "print(image_to_text_3)"
   ]
  },
  {
   "cell_type": "markdown",
   "metadata": {},
   "source": [
    "# ----------------------------     THANK YOU --------------------------------------------------------"
   ]
  }
 ],
 "metadata": {
  "kernelspec": {
   "display_name": "Python 3",
   "language": "python",
   "name": "python3"
  },
  "language_info": {
   "codemirror_mode": {
    "name": "ipython",
    "version": 3
   },
   "file_extension": ".py",
   "mimetype": "text/x-python",
   "name": "python",
   "nbconvert_exporter": "python",
   "pygments_lexer": "ipython3",
   "version": "3.8.3"
  }
 },
 "nbformat": 4,
 "nbformat_minor": 4
}
